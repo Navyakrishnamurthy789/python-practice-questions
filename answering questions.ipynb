{
 "cells": [
  {
   "cell_type": "code",
   "execution_count": 15,
   "id": "5d6d273b",
   "metadata": {},
   "outputs": [
    {
     "name": "stdout",
     "output_type": "stream",
     "text": [
      "Hello World\n"
     ]
    }
   ],
   "source": [
    "# 1.Hello World\n",
    "print(\"Hello World\")"
   ]
  },
  {
   "cell_type": "code",
   "execution_count": 16,
   "id": "4b7e4669",
   "metadata": {},
   "outputs": [
    {
     "name": "stdout",
     "output_type": "stream",
     "text": [
      "6\n",
      "5\n"
     ]
    }
   ],
   "source": [
    "#Instead of using third variable we use formula to swap\n",
    "a = 5\n",
    "b = 6\n",
    "a = a+b  #11\n",
    "b = a-b  #11-6=5\n",
    "a = a-b  #11-5=6\n",
    "print(a)\n",
    "print(b)  #also we have an issue with this the 11 in binary code it takes 4 binary digits,so here instead of wasting one variable,there is another way to swap\n"
   ]
  },
  {
   "cell_type": "code",
   "execution_count": 17,
   "id": "789a17be",
   "metadata": {},
   "outputs": [
    {
     "name": "stdout",
     "output_type": "stream",
     "text": [
      "6\n",
      "5\n"
     ]
    }
   ],
   "source": [
    "#without using third variable, without wasting single instead we use ^ which means xor/cap to not waste extra bit\n",
    "a = 5\n",
    "b = 6\n",
    "a = a ^ b\n",
    "b = a ^ b\n",
    "a = a ^ b\n",
    "print(a)\n",
    "print(b) \n"
   ]
  },
  {
   "cell_type": "code",
   "execution_count": 18,
   "id": "154c50a8",
   "metadata": {},
   "outputs": [
    {
     "name": "stdout",
     "output_type": "stream",
     "text": [
      "6\n",
      "5\n"
     ]
    }
   ],
   "source": [
    "#there is one another unique & amazing way in python to swap in one line\n",
    "a = 5\n",
    "b = 6\n",
    "a,b = b,a  #\n",
    "print(a)\n",
    "print(b) \n",
    "\n"
   ]
  },
  {
   "cell_type": "code",
   "execution_count": 19,
   "id": "62e532bc",
   "metadata": {},
   "outputs": [
    {
     "name": "stdout",
     "output_type": "stream",
     "text": [
      "143\n"
     ]
    }
   ],
   "source": [
    "#3.Reverse of given number\n",
    "num = 341\n",
    "n = str(num)[::-1]\n",
    "print(n)"
   ]
  },
  {
   "cell_type": "code",
   "execution_count": null,
   "id": "e78fd9e6",
   "metadata": {},
   "outputs": [],
   "source": [
    "#4.check given number is even or odd\n",
    "num = int(input(\"Enter any number\"))\n",
    "if num % 2==0:\n",
    "    print(num,\"is even\")\n",
    "else:\n",
    "    print(num,\"is odd\")"
   ]
  },
  {
   "cell_type": "code",
   "execution_count": null,
   "id": "6585f42e",
   "metadata": {},
   "outputs": [
    {
     "name": "stdout",
     "output_type": "stream",
     "text": [
      "It's prime\n"
     ]
    }
   ],
   "source": [
    "#5.check prime or not\n",
    "\n",
    "num = int(input(\"Enter any number: \"))\n",
    "if num <= 1:\n",
    "    print(\"It's not prime\")\n",
    "else:\n",
    "    for i in range(2,int(num**0.5)+1):\n",
    "       if i % num ==0:\n",
    "           print(\"It's not prime\")\n",
    "           break\n",
    "    else:\n",
    "        print(\"It's prime\")\n",
    "    "
   ]
  },
  {
   "cell_type": "code",
   "execution_count": null,
   "id": "5292fc2c",
   "metadata": {},
   "outputs": [
    {
     "name": "stdout",
     "output_type": "stream",
     "text": [
      "b is biggest\n"
     ]
    }
   ],
   "source": [
    " #biggest among three\n",
    "a=20\n",
    "b=25\n",
    "c=19\n",
    "if a >b and a >c:\n",
    "    print(\"a is biggest\")\n",
    "elif b>a and b>c:\n",
    "    print(\"b is biggest\")\n",
    "else:\n",
    "     print(\"c is biggest\")"
   ]
  },
  {
   "cell_type": "code",
   "execution_count": null,
   "id": "c1e9962c",
   "metadata": {},
   "outputs": [
    {
     "name": "stdout",
     "output_type": "stream",
     "text": [
      "120\n"
     ]
    }
   ],
   "source": [
    "#factorial of an number\n",
    "def fact(n):\n",
    "    f = 1 \n",
    "    for i in range(1,n+1):\n",
    "        f = f*i\n",
    "    return f\n",
    "x = 5\n",
    "result = fact(x)\n",
    "print(result)\n",
    "    "
   ]
  },
  {
   "cell_type": "code",
   "execution_count": 6,
   "id": "101eab25",
   "metadata": {},
   "outputs": [
    {
     "name": "stdout",
     "output_type": "stream",
     "text": [
      "0\n",
      "1\n",
      "1\n",
      "2\n",
      "3\n",
      "5\n",
      "8\n",
      "13\n"
     ]
    }
   ],
   "source": [
    "#fabinocie series using loops,functions,recursion\n",
    "\n",
    "def fib(n):\n",
    "\n",
    "    a = 0\n",
    "    b = 1\n",
    "\n",
    "    if n == 1:\n",
    "        print(a)\n",
    "    elif n < 1:\n",
    "        print(\"It's not valid\")\n",
    "    else:\n",
    "        print(a)\n",
    "        print(b)\n",
    "        for i in range(2,n):\n",
    "            c = a+b\n",
    "            a = b\n",
    "            b = c\n",
    "            print(c)\n",
    "\n",
    "fib(8)\n",
    "\n",
    "\n",
    "\n",
    "\n"
   ]
  },
  {
   "cell_type": "code",
   "execution_count": 13,
   "id": "02d30e98",
   "metadata": {},
   "outputs": [
    {
     "name": "stdout",
     "output_type": "stream",
     "text": [
      "\n",
      "Select operator\n",
      "1. Add\n",
      "2. Sub\n",
      "3. Multiply\n",
      "4. Divide\n",
      "5. Exit\n",
      "Result: 6666.666666666667\n",
      "\n",
      "Select operator\n",
      "1. Add\n",
      "2. Sub\n",
      "3. Multiply\n",
      "4. Divide\n",
      "5. Exit\n",
      "Exiting calculator... Goodbye!\n"
     ]
    }
   ],
   "source": [
    "\n",
    "\n",
    "# simple calculator with loop\n",
    "def add(a, b):\n",
    "    return a + b\n",
    "\n",
    "def sub(a, b):\n",
    "    return a - b\n",
    "\n",
    "def multiply(a, b):\n",
    "    return a * b\n",
    "\n",
    "def divide(a, b):\n",
    "    if b != 0:\n",
    "        return a / b\n",
    "    else:\n",
    "        return \"cannot divide by zero\"\n",
    "\n",
    "while True:\n",
    "    print(\"\\nSelect operator\")\n",
    "    print(\"1. Add\")\n",
    "    print(\"2. Sub\")\n",
    "    print(\"3. Multiply\")\n",
    "    print(\"4. Divide\")\n",
    "    print(\"5. Exit\")\n",
    "\n",
    "    choice = input(\"Choice (1/2/3/4/5): \")\n",
    "\n",
    "    if choice == '5':\n",
    "        print(\"Exiting calculator... Goodbye!\")\n",
    "        break\n",
    "\n",
    "    num1 = int(input(\"Enter 1st number: \"))\n",
    "    num2 = int(input(\"Enter 2nd number: \"))\n",
    "\n",
    "    if choice == '1':\n",
    "        print(\"Result:\", add(num1, num2))\n",
    "    elif choice == '2':\n",
    "        print(\"Result:\", sub(num1, num2))\n",
    "    elif choice == '3':\n",
    "        print(\"Result:\", multiply(num1, num2))\n",
    "    elif choice == '4':\n",
    "        print(\"Result:\", divide(num1, num2))\n",
    "    else:\n",
    "        print(\"Invalid input, please try again.\")\n"
   ]
  },
  {
   "cell_type": "code",
   "execution_count": null,
   "id": "f85e2864",
   "metadata": {},
   "outputs": [],
   "source": []
  }
 ],
 "metadata": {
  "kernelspec": {
   "display_name": "base",
   "language": "python",
   "name": "python3"
  },
  "language_info": {
   "codemirror_mode": {
    "name": "ipython",
    "version": 3
   },
   "file_extension": ".py",
   "mimetype": "text/x-python",
   "name": "python",
   "nbconvert_exporter": "python",
   "pygments_lexer": "ipython3",
   "version": "3.13.5"
  }
 },
 "nbformat": 4,
 "nbformat_minor": 5
}
